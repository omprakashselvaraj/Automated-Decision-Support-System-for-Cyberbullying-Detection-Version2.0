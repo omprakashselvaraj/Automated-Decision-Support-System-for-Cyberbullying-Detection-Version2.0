{
 "cells": [
  {
   "cell_type": "code",
   "execution_count": 1,
   "id": "b06dd421-2778-4472-956f-2622ce163904",
   "metadata": {},
   "outputs": [],
   "source": [
    "import os\n",
    "import pandas as pd\n",
    "from num2words import num2words\n",
    "from decimal import Decimal\n",
    "import math\n",
    "from bs4 import BeautifulSoup\n",
    "import re\n",
    "import unidecode\n",
    "from string import punctuation\n",
    "import nltk\n",
    "from nltk.corpus import stopwords\n",
    "from emoticons_list import EMOTICONS_EMO\n",
    "from nltk.stem import WordNetLemmatizer\n",
    "from nltk.tokenize import word_tokenize\n",
    "from nltk.tokenize import RegexpTokenizer\n",
    "from nltk import tokenize"
   ]
  },
  {
   "cell_type": "code",
   "execution_count": 2,
   "id": "3a354c9c-1dc8-45c9-9252-5fb21c9fa022",
   "metadata": {},
   "outputs": [],
   "source": [
    "def change_directory(path):\n",
    "    print(\"Current Working Directory \", os.getcwd())\n",
    "    os.chdir(path)\n",
    "    print(\"Changed Working Directory \", os.getcwd())"
   ]
  },
  {
   "cell_type": "code",
   "execution_count": 3,
   "id": "fe0f52b7-3847-4899-a9ed-1bae9d32b53d",
   "metadata": {},
   "outputs": [],
   "source": [
    "def read_data(file):\n",
    "    data = pd.read_csv(file)\n",
    "    return data"
   ]
  },
  {
   "cell_type": "code",
   "execution_count": 4,
   "id": "ee52fb7e-114f-49a3-a545-23fed52679d9",
   "metadata": {},
   "outputs": [],
   "source": [
    "def lower_case_convertion(text):\n",
    "    lower_text = text.lower()\n",
    "    return lower_text"
   ]
  },
  {
   "cell_type": "code",
   "execution_count": 5,
   "id": "0fe036b4-cc54-4151-bf36-5a2c1d8162c0",
   "metadata": {},
   "outputs": [],
   "source": [
    "def remove_punctuation(text):\n",
    "    \"\"\"\n",
    "    Return :- String after removing punctuations\n",
    "    Input :- String\n",
    "    Output :- String\n",
    "    \"\"\"\n",
    "    return text.translate(str.maketrans('', '', punctuation))"
   ]
  },
  {
   "cell_type": "code",
   "execution_count": 6,
   "id": "42cd51b1-8d30-4065-809a-98bd193ea909",
   "metadata": {},
   "outputs": [],
   "source": [
    "def remove_numbers(text):\n",
    "    \"\"\"\n",
    "    Return :- String without numbers\n",
    "    input :- String\n",
    "    Output :- String\n",
    "    \"\"\"\n",
    "    number_pattern = r'\\d+'\n",
    "    without_number = re.sub(pattern=number_pattern,repl=\" \", string=text)\n",
    "    return without_number"
   ]
  },
  {
   "cell_type": "code",
   "execution_count": 7,
   "id": "0993036a-2c7e-45e4-9b64-0b151e755368",
   "metadata": {},
   "outputs": [],
   "source": [
    "def remove_html_tags_beautifulsoup(text):\n",
    "    \"\"\"\n",
    "    Return :- String without Html tags\n",
    "    input :- String\n",
    "    Output :- String\n",
    "    \"\"\"\n",
    "    parser = BeautifulSoup(text, \"html.parser\")\n",
    "    without_html = parser.get_text(separator = \" \")\n",
    "    return without_html"
   ]
  },
  {
   "cell_type": "code",
   "execution_count": 8,
   "id": "46c9b506-0d42-45b3-9093-920365fa76cb",
   "metadata": {},
   "outputs": [],
   "source": [
    "def remove_urls(text):\n",
    "    \"\"\"\n",
    "    Return :- String without URLs\n",
    "    input :- String\n",
    "    Output :- String\n",
    "    \"\"\"\n",
    "    url_pattern = r'https?://\\S+|www\\.\\S+'\n",
    "    without_urls = re.sub(pattern=url_pattern, repl=' ', string=text)\n",
    "    return without_urls"
   ]
  },
  {
   "cell_type": "code",
   "execution_count": 9,
   "id": "5edb3e66-8395-4302-9c78-67dad8d6fa4e",
   "metadata": {},
   "outputs": [],
   "source": [
    "def accented_to_ascii(text):\n",
    "    \"\"\"\n",
    "    Return :- text after converting accented characters\n",
    "    Input :- string\n",
    "    Output :- string\n",
    "    \"\"\"\n",
    "    # apply unidecode function on text to convert\n",
    "    # accented characters to ASCII values\n",
    "    text = unidecode.unidecode(text)\n",
    "    return text"
   ]
  },
  {
   "cell_type": "code",
   "execution_count": 10,
   "id": "e46e1ce1-9666-4770-9a76-79449f5bc29e",
   "metadata": {},
   "outputs": [],
   "source": [
    "def remove_extra_spaces(text):\n",
    "    \"\"\"\n",
    "    Return :- string after removing extra whitespaces\n",
    "    Input :- String\n",
    "    Output :- String\n",
    "    \"\"\"\n",
    "    space_pattern = r'\\s+'\n",
    "    without_space = re.sub(pattern=space_pattern, repl=\" \", string=text)\n",
    "    return without_space"
   ]
  },
  {
   "cell_type": "code",
   "execution_count": 11,
   "id": "0ed749f6-2741-40bc-abee-9e5a7ec33a6e",
   "metadata": {},
   "outputs": [],
   "source": [
    "def remove_single_char(text):\n",
    "    \"\"\"\n",
    "    Return :- string after removing single characters\n",
    "    Input :- string\n",
    "    Output:- string\n",
    "    \"\"\"\n",
    "    single_char_pattern = r'\\s+[a-zA-Z]\\s+'\n",
    "    without_sc = re.sub(pattern=single_char_pattern, repl=\" \", string=text)\n",
    "    return without_sc"
   ]
  },
  {
   "cell_type": "code",
   "execution_count": 12,
   "id": "15e0b5a4-3423-4bbb-bd5f-d22b8b9af409",
   "metadata": {},
   "outputs": [],
   "source": [
    "# convert emo_unicode to unicode_emo\n",
    "UNICODE_EMO = {v: k for k, v in EMOTICONS_EMO.items()}\n",
    "\n",
    "def emoji_words(text):\n",
    "    for emot in UNICODE_EMO:\n",
    "        emoji_pattern = r'('+emot+')'\n",
    "        # replace\n",
    "        emoji_words = UNICODE_EMO[emot]\n",
    "        replace_text = emoji_words.replace(\",\",\"\")\n",
    "        replace_text = replace_text.replace(\":\",\"\")\n",
    "        replace_text_list = replace_text.split()\n",
    "        emoji_name = '_'.join(replace_text_list)\n",
    "        text = re.sub(emoji_pattern, emoji_name, text)\n",
    "    return text\n"
   ]
  },
  {
   "cell_type": "code",
   "execution_count": 13,
   "id": "cdf5b130-3ed2-4762-9866-a87fd7d817f9",
   "metadata": {},
   "outputs": [],
   "source": [
    "lemma = WordNetLemmatizer()\n",
    "def lemmatization(text):\n",
    "\n",
    "    # word tokenization\n",
    "    tokens = word_tokenize(text)\n",
    "\n",
    "    for index in range(len(tokens)):\n",
    "        # lemma word\n",
    "        lemma_word = lemma.lemmatize(tokens[index])\n",
    "        tokens[index] = lemma_word\n",
    "\n",
    "    return ' '.join(tokens)"
   ]
  },
  {
   "cell_type": "code",
   "execution_count": 14,
   "id": "2f8eec6c-de61-4ea2-b0a7-4f513d773c26",
   "metadata": {},
   "outputs": [
    {
     "name": "stdout",
     "output_type": "stream",
     "text": [
      "Current Working Directory  C:\\Users\\ompra\\OneDrive\\Documents\\Machine Learning Projects\\Automated Decision Support System for Cyberbullying Detection - Version 2.0\\Notebooks\n",
      "Changed Working Directory  C:\\Users\\ompra\\OneDrive\\Documents\\Machine Learning Projects\\Automated Decision Support System for Cyberbullying Detection - Version 2.0\\Data\\raw_data\n"
     ]
    }
   ],
   "source": [
    "path = \"C:\\\\Users\\\\ompra\\\\OneDrive\\\\Documents\\\\Machine Learning Projects\\\\Automated Decision Support System for Cyberbullying Detection - Version 2.0\\\\Data\\\\raw_data\"\n",
    "change_directory(path)"
   ]
  },
  {
   "cell_type": "code",
   "execution_count": 15,
   "id": "ce30e9a2-d500-4f2e-a909-99637b3a8966",
   "metadata": {},
   "outputs": [
    {
     "data": {
      "text/html": [
       "<div>\n",
       "<style scoped>\n",
       "    .dataframe tbody tr th:only-of-type {\n",
       "        vertical-align: middle;\n",
       "    }\n",
       "\n",
       "    .dataframe tbody tr th {\n",
       "        vertical-align: top;\n",
       "    }\n",
       "\n",
       "    .dataframe thead th {\n",
       "        text-align: right;\n",
       "    }\n",
       "</style>\n",
       "<table border=\"1\" class=\"dataframe\">\n",
       "  <thead>\n",
       "    <tr style=\"text-align: right;\">\n",
       "      <th></th>\n",
       "      <th>text</th>\n",
       "      <th>cyberbullying_type</th>\n",
       "    </tr>\n",
       "  </thead>\n",
       "  <tbody>\n",
       "    <tr>\n",
       "      <th>0</th>\n",
       "      <td>That long rant/explanation of his and the comm...</td>\n",
       "      <td>religion</td>\n",
       "    </tr>\n",
       "    <tr>\n",
       "      <th>1</th>\n",
       "      <td>@ToddMetcalf I’m wondering where all our conse...</td>\n",
       "      <td>not_cyberbullying</td>\n",
       "    </tr>\n",
       "    <tr>\n",
       "      <th>2</th>\n",
       "      <td>@DaveAtherton20 @bnsphrx @hermannkelly @Robert...</td>\n",
       "      <td>religion</td>\n",
       "    </tr>\n",
       "    <tr>\n",
       "      <th>3</th>\n",
       "      <td>RT @TRobinsonNewEra: This has nothing to do wi...</td>\n",
       "      <td>not_cyberbullying</td>\n",
       "    </tr>\n",
       "    <tr>\n",
       "      <th>4</th>\n",
       "      <td>@stevesm39312259 @MrsNickyClark @billybragg @T...</td>\n",
       "      <td>gender</td>\n",
       "    </tr>\n",
       "  </tbody>\n",
       "</table>\n",
       "</div>"
      ],
      "text/plain": [
       "                                                text cyberbullying_type\n",
       "0  That long rant/explanation of his and the comm...           religion\n",
       "1  @ToddMetcalf I’m wondering where all our conse...  not_cyberbullying\n",
       "2  @DaveAtherton20 @bnsphrx @hermannkelly @Robert...           religion\n",
       "3  RT @TRobinsonNewEra: This has nothing to do wi...  not_cyberbullying\n",
       "4  @stevesm39312259 @MrsNickyClark @billybragg @T...             gender"
      ]
     },
     "execution_count": 15,
     "metadata": {},
     "output_type": "execute_result"
    }
   ],
   "source": [
    "file = 'integrated_cyberbullying_data.csv'\n",
    "data = read_data(file)\n",
    "data.head()"
   ]
  },
  {
   "cell_type": "code",
   "execution_count": 16,
   "id": "d40c4600-5016-455a-8175-9cf5dcedc8a3",
   "metadata": {},
   "outputs": [
    {
     "data": {
      "text/plain": [
       "0    that long rant/explanation of his and the comm...\n",
       "1    @toddmetcalf i’m wondering where all our conse...\n",
       "2    @daveatherton20 @bnsphrx @hermannkelly @robert...\n",
       "3    rt @trobinsonnewera: this has nothing to do wi...\n",
       "4    @stevesm39312259 @mrsnickyclark @billybragg @t...\n",
       "Name: text, dtype: object"
      ]
     },
     "execution_count": 16,
     "metadata": {},
     "output_type": "execute_result"
    }
   ],
   "source": [
    "data['text'] = data['text'].apply(lower_case_convertion)\n",
    "data['text'].head()"
   ]
  },
  {
   "cell_type": "code",
   "execution_count": 17,
   "id": "6b8bbaca-91c7-4048-89bc-165a8f511e8d",
   "metadata": {},
   "outputs": [
    {
     "data": {
      "text/plain": [
       "0    that long rantexplanation of his and the comme...\n",
       "1    toddmetcalf i’m wondering where all our conser...\n",
       "2    daveatherton20 bnsphrx hermannkelly robertsemo...\n",
       "3    rt trobinsonnewera this has nothing to do with...\n",
       "4    stevesm39312259 mrsnickyclark billybragg thefa...\n",
       "Name: text, dtype: object"
      ]
     },
     "execution_count": 17,
     "metadata": {},
     "output_type": "execute_result"
    }
   ],
   "source": [
    "data['text'] = data['text'].apply(remove_punctuation)\n",
    "data['text'].head()"
   ]
  },
  {
   "cell_type": "code",
   "execution_count": 18,
   "id": "c7270f51-55fb-4ffc-afb4-3bf01029efd9",
   "metadata": {},
   "outputs": [
    {
     "data": {
      "text/plain": [
       "0    that long rantexplanation of his and the comme...\n",
       "1    toddmetcalf i’m wondering where all our conser...\n",
       "2    daveatherton  bnsphrx hermannkelly robertsemon...\n",
       "3    rt trobinsonnewera this has nothing to do with...\n",
       "4    stevesm  mrsnickyclark billybragg thefamousart...\n",
       "Name: text, dtype: object"
      ]
     },
     "execution_count": 18,
     "metadata": {},
     "output_type": "execute_result"
    }
   ],
   "source": [
    "data['text'] = data['text'].apply(remove_numbers)\n",
    "data['text'].head()"
   ]
  },
  {
   "cell_type": "code",
   "execution_count": 19,
   "id": "8d1bd3db-e90d-4973-8ad6-9147fab055cc",
   "metadata": {},
   "outputs": [
    {
     "data": {
      "text/plain": [
       "0    that long rantexplanation of his and the comme...\n",
       "1    toddmetcalf i’m wondering where all our conser...\n",
       "2    daveatherton  bnsphrx hermannkelly robertsemon...\n",
       "3    rt trobinsonnewera this has nothing to do with...\n",
       "4    stevesm  mrsnickyclark billybragg thefamousart...\n",
       "Name: text, dtype: object"
      ]
     },
     "execution_count": 19,
     "metadata": {},
     "output_type": "execute_result"
    }
   ],
   "source": [
    "data['text'] = data['text'].apply(remove_html_tags_beautifulsoup)\n",
    "data['text'].head()"
   ]
  },
  {
   "cell_type": "code",
   "execution_count": 20,
   "id": "03489d37-54e8-49fc-abd0-f2e02c05e6e3",
   "metadata": {},
   "outputs": [
    {
     "data": {
      "text/plain": [
       "0    that long rantexplanation of his and the comme...\n",
       "1    toddmetcalf i’m wondering where all our conser...\n",
       "2    daveatherton  bnsphrx hermannkelly robertsemon...\n",
       "3    rt trobinsonnewera this has nothing to do with...\n",
       "4    stevesm  mrsnickyclark billybragg thefamousart...\n",
       "Name: text, dtype: object"
      ]
     },
     "execution_count": 20,
     "metadata": {},
     "output_type": "execute_result"
    }
   ],
   "source": [
    "data['text'] = data['text'].apply(remove_urls)\n",
    "data['text'].head()"
   ]
  },
  {
   "cell_type": "code",
   "execution_count": 21,
   "id": "1ddfd530-f468-45ad-83a5-d61f6608624d",
   "metadata": {},
   "outputs": [
    {
     "data": {
      "text/plain": [
       "0    that long rantexplanation of his and the comme...\n",
       "1    toddmetcalf i'm wondering where all our conser...\n",
       "2    daveatherton  bnsphrx hermannkelly robertsemon...\n",
       "3    rt trobinsonnewera this has nothing to do with...\n",
       "4    stevesm  mrsnickyclark billybragg thefamousart...\n",
       "Name: text, dtype: object"
      ]
     },
     "execution_count": 21,
     "metadata": {},
     "output_type": "execute_result"
    }
   ],
   "source": [
    "data['text'] = data['text'].apply(accented_to_ascii)\n",
    "data['text'].head()"
   ]
  },
  {
   "cell_type": "code",
   "execution_count": 22,
   "id": "a913ac63-5dcd-4264-981a-182294ba8fc2",
   "metadata": {},
   "outputs": [
    {
     "data": {
      "text/plain": [
       "0    that long rantexplanation of his and the comme...\n",
       "1    toddmetcalf i'm wondering where all our conser...\n",
       "2    daveatherton bnsphrx hermannkelly robertsemons...\n",
       "3    rt trobinsonnewera this has nothing to do with...\n",
       "4    stevesm mrsnickyclark billybragg thefamousartb...\n",
       "Name: text, dtype: object"
      ]
     },
     "execution_count": 22,
     "metadata": {},
     "output_type": "execute_result"
    }
   ],
   "source": [
    "data['text'] = data['text'].apply(remove_extra_spaces)\n",
    "data['text'].head()"
   ]
  },
  {
   "cell_type": "code",
   "execution_count": 23,
   "id": "430c838d-bddf-444a-a412-5b43248a0793",
   "metadata": {},
   "outputs": [
    {
     "data": {
      "text/plain": [
       "0    that long rantexplanation of his and the comme...\n",
       "1    toddmetcalf i'm wondering where all our conser...\n",
       "2    daveatherton bnsphrx hermannkelly robertsemons...\n",
       "3    rt trobinsonnewera this has nothing to do with...\n",
       "4    stevesm mrsnickyclark billybragg thefamousartb...\n",
       "Name: text, dtype: object"
      ]
     },
     "execution_count": 23,
     "metadata": {},
     "output_type": "execute_result"
    }
   ],
   "source": [
    "data['text'] = data['text'].apply(remove_single_char)\n",
    "data['text'].head()"
   ]
  },
  {
   "cell_type": "code",
   "execution_count": 24,
   "id": "ae7c59b0-f164-4a91-b95c-98085c80ab2c",
   "metadata": {},
   "outputs": [],
   "source": [
    "stop = stopwords.words('english')\n",
    "data['text'] = data['text'].apply(lambda x: ' '.join([word for word in x.split() if word not in (stop)]))"
   ]
  },
  {
   "cell_type": "code",
   "execution_count": 25,
   "id": "a3ffd6d8-9925-48cd-934d-ecbb5867aa99",
   "metadata": {},
   "outputs": [
    {
     "data": {
      "text/plain": [
       "0    long rantexplanation comments copeacefuls make...\n",
       "1    toddmetcalf i'm wondering conservative brother...\n",
       "2    daveatherton bnsphrx hermannkelly robertsemons...\n",
       "3    rt trobinsonnewera nothing islam httptcoacqkux...\n",
       "4    stevesm mrsnickyclark billybragg thefamousartb...\n",
       "Name: text, dtype: object"
      ]
     },
     "execution_count": 25,
     "metadata": {},
     "output_type": "execute_result"
    }
   ],
   "source": [
    "data['text'] = data['text'].apply(emoji_words)\n",
    "data['text'].head()"
   ]
  },
  {
   "cell_type": "code",
   "execution_count": 26,
   "id": "48a6b23c-12fe-4a0e-914a-ff8614fdc74b",
   "metadata": {},
   "outputs": [
    {
     "data": {
      "text/plain": [
       "0    long rantexplanation comment copeacefuls make ...\n",
       "1    toddmetcalf i 'm wondering conservative brothe...\n",
       "2    daveatherton bnsphrx hermannkelly robertsemons...\n",
       "3    rt trobinsonnewera nothing islam httptcoacqkux...\n",
       "4    stevesm mrsnickyclark billybragg thefamousartb...\n",
       "Name: text, dtype: object"
      ]
     },
     "execution_count": 26,
     "metadata": {},
     "output_type": "execute_result"
    }
   ],
   "source": [
    "data['text']=data['text'].apply(lemmatization)\n",
    "data['text'].head()"
   ]
  },
  {
   "cell_type": "code",
   "execution_count": 27,
   "id": "b6a0e15c-c2dd-44c5-92ce-ffbc49e3943e",
   "metadata": {},
   "outputs": [
    {
     "name": "stderr",
     "output_type": "stream",
     "text": [
      "C:\\Users\\ompra\\AppData\\Local\\Temp\\ipykernel_15900\\125446536.py:1: FutureWarning: The default value of regex will change from True to False in a future version.\n",
      "  data['text'] = data['text'].str.replace('\\d+', '')\n"
     ]
    }
   ],
   "source": [
    "data['text'] = data['text'].str.replace('\\d+', '')"
   ]
  },
  {
   "cell_type": "code",
   "execution_count": 28,
   "id": "466ffe54-530e-4d62-9a87-cb991594f115",
   "metadata": {},
   "outputs": [
    {
     "data": {
      "text/plain": [
       "0    long rantexplanation comment copeacefuls make ...\n",
       "1    toddmetcalf i 'm wondering conservative brothe...\n",
       "2    daveatherton bnsphrx hermannkelly robertsemons...\n",
       "3    rt trobinsonnewera nothing islam httptcoacqkux...\n",
       "4    stevesm mrsnickyclark billybragg thefamousartb...\n",
       "Name: text, dtype: object"
      ]
     },
     "execution_count": 28,
     "metadata": {},
     "output_type": "execute_result"
    }
   ],
   "source": [
    "data['text'].head()"
   ]
  },
  {
   "cell_type": "code",
   "execution_count": 29,
   "id": "85957d80-896b-429b-bd83-d18703da211f",
   "metadata": {},
   "outputs": [
    {
     "data": {
      "text/plain": [
       "0"
      ]
     },
     "execution_count": 29,
     "metadata": {},
     "output_type": "execute_result"
    }
   ],
   "source": [
    "data['text'].isnull().sum()"
   ]
  },
  {
   "cell_type": "code",
   "execution_count": 54,
   "id": "93caeba5-44cc-44c6-a4ed-8e8107ce5914",
   "metadata": {},
   "outputs": [],
   "source": [
    "data.to_csv('cleaned_data.csv', index = False)"
   ]
  },
  {
   "cell_type": "code",
   "execution_count": null,
   "id": "03451338-baac-4352-8cd2-1ae99d1a66ae",
   "metadata": {},
   "outputs": [],
   "source": []
  }
 ],
 "metadata": {
  "kernelspec": {
   "display_name": "Python 3 (ipykernel)",
   "language": "python",
   "name": "python3"
  },
  "language_info": {
   "codemirror_mode": {
    "name": "ipython",
    "version": 3
   },
   "file_extension": ".py",
   "mimetype": "text/x-python",
   "name": "python",
   "nbconvert_exporter": "python",
   "pygments_lexer": "ipython3",
   "version": "3.9.13"
  }
 },
 "nbformat": 4,
 "nbformat_minor": 5
}
