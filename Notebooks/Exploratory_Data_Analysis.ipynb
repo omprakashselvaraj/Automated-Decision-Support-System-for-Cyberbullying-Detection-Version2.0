{
 "cells": [
  {
   "cell_type": "code",
   "execution_count": 29,
   "id": "2dcd03fc-367d-43c2-abf1-c8c627bc2f16",
   "metadata": {},
   "outputs": [],
   "source": [
    "import os\n",
    "import pandas as pd\n",
    "import matplotlib.pyplot as plt\n",
    "from textblob import TextBlob"
   ]
  },
  {
   "cell_type": "code",
   "execution_count": 30,
   "id": "4b66e605-4f45-49ff-b52f-4d7d528cdea4",
   "metadata": {},
   "outputs": [],
   "source": [
    "def change_directory(path):\n",
    "    print(\"Current Working Directory \", os.getcwd())\n",
    "    os.chdir(path)\n",
    "    print(\"Changed Working Directory \", os.getcwd())"
   ]
  },
  {
   "cell_type": "code",
   "execution_count": 31,
   "id": "ce643785-4837-4e32-a5cb-5fbf76d8d146",
   "metadata": {},
   "outputs": [],
   "source": [
    "def read_data(file):\n",
    "    data = pd.read_csv(file)\n",
    "    return data"
   ]
  },
  {
   "cell_type": "code",
   "execution_count": 32,
   "id": "8efddc12-3cf4-4231-965d-a8fd8cd3b3d1",
   "metadata": {},
   "outputs": [],
   "source": [
    "def cross_tab(data):\n",
    "    res = data['cyberbullying_type'].value_counts().rename_axis('cyberbullying_type').reset_index(name='counts')\n",
    "    res['percentage'] = (res['counts']/sum(res['counts'])) * 100\n",
    "    return res"
   ]
  },
  {
   "cell_type": "code",
   "execution_count": 33,
   "id": "fd3b3d8b-0da5-4f30-9eab-87818c26acec",
   "metadata": {},
   "outputs": [],
   "source": [
    "def frequency_plot(res):\n",
    "    x = res['cyberbullying_type']\n",
    "    y = res['counts']\n",
    "    plt.figure(figsize=(11,4))\n",
    "    plt.bar(x,y,color='violet')\n",
    "    plt.title('Target Label Vs Frequency')\n",
    "    plt.xlabel('Target Label')\n",
    "    plt.ylabel('Frequency')\n",
    "    plt.show()"
   ]
  },
  {
   "cell_type": "code",
   "execution_count": 34,
   "id": "8021d520-9368-4a62-a716-cffbc5361e5f",
   "metadata": {},
   "outputs": [],
   "source": [
    "def polarity_score(x):\n",
    "    sentiment = \"\"\n",
    "    polarity = round(TextBlob(x).sentiment.polarity,4)\n",
    "    if polarity > 0:\n",
    "        sentiment = \"positive\"\n",
    "    elif polarity < 0:\n",
    "        sentiment = \"negative\"\n",
    "    else:\n",
    "        sentiment = \"neutral\"\n",
    "    return sentiment, polarity"
   ]
  },
  {
   "cell_type": "code",
   "execution_count": 47,
   "id": "dc5f1b7b-1548-40e8-ba75-1cc8c474d3c5",
   "metadata": {},
   "outputs": [],
   "source": [
    "def polarity_summary(data):\n",
    "    summary = data.groupby(['cyberbullying_type','sentiment']).agg(count_sentiment = ('sentiment','count'),\n",
    "                                                     average_polarity = ('polarity_score','mean')\n",
    "                                                    ).reset_index()\n",
    "    return summary"
   ]
  },
  {
   "cell_type": "code",
   "execution_count": 35,
   "id": "2fbcfc62-545f-4739-90df-7d1c68eca076",
   "metadata": {},
   "outputs": [
    {
     "name": "stdout",
     "output_type": "stream",
     "text": [
      "Current Working Directory  C:\\Users\\ompra\\OneDrive\\Documents\\Machine Learning Projects\\Automated Decision Support System for Cyberbullying Detection - Version 2.0\\Data\\raw_data\n",
      "Changed Working Directory  C:\\Users\\ompra\\OneDrive\\Documents\\Machine Learning Projects\\Automated Decision Support System for Cyberbullying Detection - Version 2.0\\Data\\raw_data\n"
     ]
    }
   ],
   "source": [
    "path = \"C:\\\\Users\\\\ompra\\\\OneDrive\\\\Documents\\\\Machine Learning Projects\\\\Automated Decision Support System for Cyberbullying Detection - Version 2.0\\\\Data\\\\raw_data\"\n",
    "change_directory(path)"
   ]
  },
  {
   "cell_type": "code",
   "execution_count": 36,
   "id": "8f3cd9a5-8557-4c92-a583-0a05f3cd3195",
   "metadata": {},
   "outputs": [
    {
     "data": {
      "text/html": [
       "<div>\n",
       "<style scoped>\n",
       "    .dataframe tbody tr th:only-of-type {\n",
       "        vertical-align: middle;\n",
       "    }\n",
       "\n",
       "    .dataframe tbody tr th {\n",
       "        vertical-align: top;\n",
       "    }\n",
       "\n",
       "    .dataframe thead th {\n",
       "        text-align: right;\n",
       "    }\n",
       "</style>\n",
       "<table border=\"1\" class=\"dataframe\">\n",
       "  <thead>\n",
       "    <tr style=\"text-align: right;\">\n",
       "      <th></th>\n",
       "      <th>text</th>\n",
       "      <th>cyberbullying_type</th>\n",
       "    </tr>\n",
       "  </thead>\n",
       "  <tbody>\n",
       "    <tr>\n",
       "      <th>0</th>\n",
       "      <td>In other words #katandandre, your food was cra...</td>\n",
       "      <td>not_cyberbullying</td>\n",
       "    </tr>\n",
       "    <tr>\n",
       "      <th>1</th>\n",
       "      <td>Why is #aussietv so white? #MKR #theblock #ImA...</td>\n",
       "      <td>not_cyberbullying</td>\n",
       "    </tr>\n",
       "    <tr>\n",
       "      <th>2</th>\n",
       "      <td>@XochitlSuckkks a classy whore? Or more red ve...</td>\n",
       "      <td>not_cyberbullying</td>\n",
       "    </tr>\n",
       "    <tr>\n",
       "      <th>3</th>\n",
       "      <td>@Jason_Gio meh. :P  thanks for the heads up, b...</td>\n",
       "      <td>not_cyberbullying</td>\n",
       "    </tr>\n",
       "    <tr>\n",
       "      <th>4</th>\n",
       "      <td>@RudhoeEnglish This is an ISIS account pretend...</td>\n",
       "      <td>not_cyberbullying</td>\n",
       "    </tr>\n",
       "  </tbody>\n",
       "</table>\n",
       "</div>"
      ],
      "text/plain": [
       "                                                text cyberbullying_type\n",
       "0  In other words #katandandre, your food was cra...  not_cyberbullying\n",
       "1  Why is #aussietv so white? #MKR #theblock #ImA...  not_cyberbullying\n",
       "2  @XochitlSuckkks a classy whore? Or more red ve...  not_cyberbullying\n",
       "3  @Jason_Gio meh. :P  thanks for the heads up, b...  not_cyberbullying\n",
       "4  @RudhoeEnglish This is an ISIS account pretend...  not_cyberbullying"
      ]
     },
     "execution_count": 36,
     "metadata": {},
     "output_type": "execute_result"
    }
   ],
   "source": [
    "file = 'integrated_cyberbullying_data.csv'\n",
    "data = read_data(file)\n",
    "data.head()"
   ]
  },
  {
   "cell_type": "code",
   "execution_count": 37,
   "id": "9f23a34b-fd89-4fa1-bd43-877572220f30",
   "metadata": {},
   "outputs": [
    {
     "data": {
      "text/html": [
       "<div>\n",
       "<style scoped>\n",
       "    .dataframe tbody tr th:only-of-type {\n",
       "        vertical-align: middle;\n",
       "    }\n",
       "\n",
       "    .dataframe tbody tr th {\n",
       "        vertical-align: top;\n",
       "    }\n",
       "\n",
       "    .dataframe thead th {\n",
       "        text-align: right;\n",
       "    }\n",
       "</style>\n",
       "<table border=\"1\" class=\"dataframe\">\n",
       "  <thead>\n",
       "    <tr style=\"text-align: right;\">\n",
       "      <th></th>\n",
       "      <th>cyberbullying_type</th>\n",
       "      <th>counts</th>\n",
       "      <th>percentage</th>\n",
       "    </tr>\n",
       "  </thead>\n",
       "  <tbody>\n",
       "    <tr>\n",
       "      <th>0</th>\n",
       "      <td>other_cyberbullying</td>\n",
       "      <td>19484</td>\n",
       "      <td>29.592953</td>\n",
       "    </tr>\n",
       "    <tr>\n",
       "      <th>1</th>\n",
       "      <td>not_cyberbullying</td>\n",
       "      <td>14432</td>\n",
       "      <td>21.919806</td>\n",
       "    </tr>\n",
       "    <tr>\n",
       "      <th>2</th>\n",
       "      <td>religion</td>\n",
       "      <td>7998</td>\n",
       "      <td>12.147631</td>\n",
       "    </tr>\n",
       "    <tr>\n",
       "      <th>3</th>\n",
       "      <td>age</td>\n",
       "      <td>7992</td>\n",
       "      <td>12.138518</td>\n",
       "    </tr>\n",
       "    <tr>\n",
       "      <th>4</th>\n",
       "      <td>gender</td>\n",
       "      <td>7973</td>\n",
       "      <td>12.109660</td>\n",
       "    </tr>\n",
       "    <tr>\n",
       "      <th>5</th>\n",
       "      <td>ethnicity</td>\n",
       "      <td>7961</td>\n",
       "      <td>12.091434</td>\n",
       "    </tr>\n",
       "  </tbody>\n",
       "</table>\n",
       "</div>"
      ],
      "text/plain": [
       "    cyberbullying_type  counts  percentage\n",
       "0  other_cyberbullying   19484   29.592953\n",
       "1    not_cyberbullying   14432   21.919806\n",
       "2             religion    7998   12.147631\n",
       "3                  age    7992   12.138518\n",
       "4               gender    7973   12.109660\n",
       "5            ethnicity    7961   12.091434"
      ]
     },
     "execution_count": 37,
     "metadata": {},
     "output_type": "execute_result"
    }
   ],
   "source": [
    "res = cross_tab(data)\n",
    "res"
   ]
  },
  {
   "cell_type": "code",
   "execution_count": 38,
   "id": "fd911d7f-2b6f-4951-af7b-da9cc7aeadc9",
   "metadata": {},
   "outputs": [
    {
     "data": {
      "image/png": "[encoded data removed]",
      "text/plain": [
       "<Figure size 1100x400 with 1 Axes>"
      ]
     },
     "metadata": {},
     "output_type": "display_data"
    }
   ],
   "source": [
    "frequency_plot(res)"
   ]
  },
  {
   "cell_type": "code",
   "execution_count": 39,
   "id": "a6f29dac-2f9a-4c93-911c-7ec45e0a50bd",
   "metadata": {},
   "outputs": [
    {
     "data": {
      "text/html": [
       "<div>\n",
       "<style scoped>\n",
       "    .dataframe tbody tr th:only-of-type {\n",
       "        vertical-align: middle;\n",
       "    }\n",
       "\n",
       "    .dataframe tbody tr th {\n",
       "        vertical-align: top;\n",
       "    }\n",
       "\n",
       "    .dataframe thead th {\n",
       "        text-align: right;\n",
       "    }\n",
       "</style>\n",
       "<table border=\"1\" class=\"dataframe\">\n",
       "  <thead>\n",
       "    <tr style=\"text-align: right;\">\n",
       "      <th></th>\n",
       "      <th>text</th>\n",
       "      <th>cyberbullying_type</th>\n",
       "      <th>sentiment</th>\n",
       "      <th>polarity_score</th>\n",
       "    </tr>\n",
       "  </thead>\n",
       "  <tbody>\n",
       "    <tr>\n",
       "      <th>0</th>\n",
       "      <td>In other words #katandandre, your food was cra...</td>\n",
       "      <td>not_cyberbullying</td>\n",
       "      <td>negative</td>\n",
       "      <td>-0.1562</td>\n",
       "    </tr>\n",
       "    <tr>\n",
       "      <th>1</th>\n",
       "      <td>Why is #aussietv so white? #MKR #theblock #ImA...</td>\n",
       "      <td>not_cyberbullying</td>\n",
       "      <td>neutral</td>\n",
       "      <td>0.0000</td>\n",
       "    </tr>\n",
       "    <tr>\n",
       "      <th>2</th>\n",
       "      <td>@XochitlSuckkks a classy whore? Or more red ve...</td>\n",
       "      <td>not_cyberbullying</td>\n",
       "      <td>positive</td>\n",
       "      <td>0.2000</td>\n",
       "    </tr>\n",
       "    <tr>\n",
       "      <th>3</th>\n",
       "      <td>@Jason_Gio meh. :P  thanks for the heads up, b...</td>\n",
       "      <td>not_cyberbullying</td>\n",
       "      <td>positive</td>\n",
       "      <td>0.1500</td>\n",
       "    </tr>\n",
       "    <tr>\n",
       "      <th>4</th>\n",
       "      <td>@RudhoeEnglish This is an ISIS account pretend...</td>\n",
       "      <td>not_cyberbullying</td>\n",
       "      <td>neutral</td>\n",
       "      <td>0.0000</td>\n",
       "    </tr>\n",
       "  </tbody>\n",
       "</table>\n",
       "</div>"
      ],
      "text/plain": [
       "                                                text cyberbullying_type  \\\n",
       "0  In other words #katandandre, your food was cra...  not_cyberbullying   \n",
       "1  Why is #aussietv so white? #MKR #theblock #ImA...  not_cyberbullying   \n",
       "2  @XochitlSuckkks a classy whore? Or more red ve...  not_cyberbullying   \n",
       "3  @Jason_Gio meh. :P  thanks for the heads up, b...  not_cyberbullying   \n",
       "4  @RudhoeEnglish This is an ISIS account pretend...  not_cyberbullying   \n",
       "\n",
       "  sentiment  polarity_score  \n",
       "0  negative         -0.1562  \n",
       "1   neutral          0.0000  \n",
       "2  positive          0.2000  \n",
       "3  positive          0.1500  \n",
       "4   neutral          0.0000  "
      ]
     },
     "execution_count": 39,
     "metadata": {},
     "output_type": "execute_result"
    }
   ],
   "source": [
    "data['sentiment'], data['polarity_score'] = zip(*data['text'].apply(polarity_score))\n",
    "data.head()"
   ]
  },
  {
   "cell_type": "code",
   "execution_count": 48,
   "id": "127e772d-bdfa-417f-b554-ceb400c391ca",
   "metadata": {},
   "outputs": [
    {
     "data": {
      "text/html": [
       "<div>\n",
       "<style scoped>\n",
       "    .dataframe tbody tr th:only-of-type {\n",
       "        vertical-align: middle;\n",
       "    }\n",
       "\n",
       "    .dataframe tbody tr th {\n",
       "        vertical-align: top;\n",
       "    }\n",
       "\n",
       "    .dataframe thead th {\n",
       "        text-align: right;\n",
       "    }\n",
       "</style>\n",
       "<table border=\"1\" class=\"dataframe\">\n",
       "  <thead>\n",
       "    <tr style=\"text-align: right;\">\n",
       "      <th></th>\n",
       "      <th>cyberbullying_type</th>\n",
       "      <th>sentiment</th>\n",
       "      <th>count_sentiment</th>\n",
       "      <th>average_polarity</th>\n",
       "    </tr>\n",
       "  </thead>\n",
       "  <tbody>\n",
       "    <tr>\n",
       "      <th>0</th>\n",
       "      <td>age</td>\n",
       "      <td>negative</td>\n",
       "      <td>2469</td>\n",
       "      <td>-0.184919</td>\n",
       "    </tr>\n",
       "    <tr>\n",
       "      <th>1</th>\n",
       "      <td>age</td>\n",
       "      <td>neutral</td>\n",
       "      <td>724</td>\n",
       "      <td>0.000000</td>\n",
       "    </tr>\n",
       "    <tr>\n",
       "      <th>2</th>\n",
       "      <td>age</td>\n",
       "      <td>positive</td>\n",
       "      <td>4799</td>\n",
       "      <td>0.190796</td>\n",
       "    </tr>\n",
       "    <tr>\n",
       "      <th>3</th>\n",
       "      <td>ethnicity</td>\n",
       "      <td>negative</td>\n",
       "      <td>6250</td>\n",
       "      <td>-0.305595</td>\n",
       "    </tr>\n",
       "    <tr>\n",
       "      <th>4</th>\n",
       "      <td>ethnicity</td>\n",
       "      <td>neutral</td>\n",
       "      <td>253</td>\n",
       "      <td>0.000000</td>\n",
       "    </tr>\n",
       "    <tr>\n",
       "      <th>5</th>\n",
       "      <td>ethnicity</td>\n",
       "      <td>positive</td>\n",
       "      <td>1458</td>\n",
       "      <td>0.175491</td>\n",
       "    </tr>\n",
       "    <tr>\n",
       "      <th>6</th>\n",
       "      <td>gender</td>\n",
       "      <td>negative</td>\n",
       "      <td>2182</td>\n",
       "      <td>-0.268621</td>\n",
       "    </tr>\n",
       "    <tr>\n",
       "      <th>7</th>\n",
       "      <td>gender</td>\n",
       "      <td>neutral</td>\n",
       "      <td>1487</td>\n",
       "      <td>0.000000</td>\n",
       "    </tr>\n",
       "    <tr>\n",
       "      <th>8</th>\n",
       "      <td>gender</td>\n",
       "      <td>positive</td>\n",
       "      <td>4304</td>\n",
       "      <td>0.274973</td>\n",
       "    </tr>\n",
       "    <tr>\n",
       "      <th>9</th>\n",
       "      <td>not_cyberbullying</td>\n",
       "      <td>negative</td>\n",
       "      <td>3138</td>\n",
       "      <td>-0.286316</td>\n",
       "    </tr>\n",
       "  </tbody>\n",
       "</table>\n",
       "</div>"
      ],
      "text/plain": [
       "  cyberbullying_type sentiment  count_sentiment  average_polarity\n",
       "0                age  negative             2469         -0.184919\n",
       "1                age   neutral              724          0.000000\n",
       "2                age  positive             4799          0.190796\n",
       "3          ethnicity  negative             6250         -0.305595\n",
       "4          ethnicity   neutral              253          0.000000\n",
       "5          ethnicity  positive             1458          0.175491\n",
       "6             gender  negative             2182         -0.268621\n",
       "7             gender   neutral             1487          0.000000\n",
       "8             gender  positive             4304          0.274973\n",
       "9  not_cyberbullying  negative             3138         -0.286316"
      ]
     },
     "execution_count": 48,
     "metadata": {},
     "output_type": "execute_result"
    }
   ],
   "source": [
    "summary = polarity_summary(data)\n",
    "summary.head(10)"
   ]
  },
  {
   "cell_type": "code",
   "execution_count": null,
   "id": "f5d7629e-3157-43cf-b5cf-d52649f201b4",
   "metadata": {},
   "outputs": [],
   "source": []
  }
 ],
 "metadata": {
  "kernelspec": {
   "display_name": "Python 3 (ipykernel)",
   "language": "python",
   "name": "python3"
  },
  "language_info": {
   "codemirror_mode": {
    "name": "ipython",
    "version": 3
   },
   "file_extension": ".py",
   "mimetype": "text/x-python",
   "name": "python",
   "nbconvert_exporter": "python",
   "pygments_lexer": "ipython3",
   "version": "3.9.13"
  }
 },
 "nbformat": 4,
 "nbformat_minor": 5
}
