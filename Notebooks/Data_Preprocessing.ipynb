{
 "cells": [
  {
   "cell_type": "code",
   "execution_count": 3,
   "id": "60cb79f8-bff9-42fe-9dc7-7675da4a5440",
   "metadata": {},
   "outputs": [],
   "source": [
    "import os\n",
    "import pandas as pd\n",
    "from sklearn.model_selection import train_test_split\n",
    "from sklearn.feature_extraction.text import TfidfVectorizer"
   ]
  },
  {
   "cell_type": "code",
   "execution_count": 4,
   "id": "0b8892bb-37c2-43e2-b5e9-e93e45abf396",
   "metadata": {},
   "outputs": [],
   "source": [
    "def change_directory(path):\n",
    "    print(\"Current Working Directory \", os.getcwd())\n",
    "    os.chdir(path)\n",
    "    print(\"Changed Working Directory \", os.getcwd())"
   ]
  },
  {
   "cell_type": "code",
   "execution_count": 5,
   "id": "09ece171-fe84-488c-a978-0085d1e2f235",
   "metadata": {},
   "outputs": [],
   "source": [
    "def read_data(file):\n",
    "    data = pd.read_csv(file)\n",
    "    return data"
   ]
  },
  {
   "cell_type": "code",
   "execution_count": 6,
   "id": "82a0bbc3-5519-4e8e-a2c4-26cd6606fe63",
   "metadata": {},
   "outputs": [],
   "source": [
    "label={              \n",
    "'not_cyberbullying':0,                       \n",
    "'gender':1,                 \n",
    "'ethnicity':2,\n",
    "'religion':3 , \n",
    "}\n",
    "def labelencode(x):\n",
    "    return label[x]"
   ]
  },
  {
   "cell_type": "code",
   "execution_count": 7,
   "id": "58817ae4-a4ab-4f2f-8d84-13cebb9dd000",
   "metadata": {},
   "outputs": [],
   "source": [
    "def validation_train_test(data):\n",
    "    rest, validation = train_test_split(data, test_size = 0.1, random_state = 101, stratify = data['cyberbullying_type'])\n",
    "    train, test = train_test_split(rest, test_size = 0.25, random_state = 101, stratify = rest['cyberbullying_type'])\n",
    "    return train, test, validation"
   ]
  },
  {
   "cell_type": "code",
   "execution_count": 8,
   "id": "66e21d6a-5d4c-48e9-9f15-acecf2e286ad",
   "metadata": {},
   "outputs": [],
   "source": [
    "def tfidf_vector(x_train,x_test):\n",
    "    tfidf_vectorizer=TfidfVectorizer(stop_words='english', max_df=0.7)\n",
    "    tfidf_train=tfidf_vectorizer.fit_transform(x_train.values.astype('U')) \n",
    "    tfidf_test=tfidf_vectorizer.transform(x_test.values.astype('U'))\n",
    "    return tfidf_train, tfidf_test"
   ]
  },
  {
   "cell_type": "code",
   "execution_count": 9,
   "id": "08b990df-9b9f-41c7-b077-82414c17ebaf",
   "metadata": {},
   "outputs": [
    {
     "name": "stdout",
     "output_type": "stream",
     "text": [
      "Current Working Directory  C:\\Users\\ompra\\OneDrive\\Documents\\Machine Learning Projects\\Automated Decision Support System for Cyberbullying Detection - Version 2.0\\Notebooks\n",
      "Changed Working Directory  C:\\Users\\ompra\\OneDrive\\Documents\\Machine Learning Projects\\Automated Decision Support System for Cyberbullying Detection - Version 2.0\\Data\\raw_data\n"
     ]
    }
   ],
   "source": [
    "path = \"C:\\\\Users\\\\ompra\\\\OneDrive\\\\Documents\\\\Machine Learning Projects\\\\Automated Decision Support System for Cyberbullying Detection - Version 2.0\\\\Data\\\\raw_data\"\n",
    "change_directory(path)"
   ]
  },
  {
   "cell_type": "code",
   "execution_count": 10,
   "id": "711c8b7a-42a7-4587-ac44-2750aba615d2",
   "metadata": {},
   "outputs": [
    {
     "data": {
      "text/html": [
       "<div>\n",
       "<style scoped>\n",
       "    .dataframe tbody tr th:only-of-type {\n",
       "        vertical-align: middle;\n",
       "    }\n",
       "\n",
       "    .dataframe tbody tr th {\n",
       "        vertical-align: top;\n",
       "    }\n",
       "\n",
       "    .dataframe thead th {\n",
       "        text-align: right;\n",
       "    }\n",
       "</style>\n",
       "<table border=\"1\" class=\"dataframe\">\n",
       "  <thead>\n",
       "    <tr style=\"text-align: right;\">\n",
       "      <th></th>\n",
       "      <th>text</th>\n",
       "      <th>cyberbullying_type</th>\n",
       "    </tr>\n",
       "  </thead>\n",
       "  <tbody>\n",
       "    <tr>\n",
       "      <th>0</th>\n",
       "      <td>long rantexplanation comment copeacefuls make ...</td>\n",
       "      <td>religion</td>\n",
       "    </tr>\n",
       "    <tr>\n",
       "      <th>1</th>\n",
       "      <td>toddmetcalf i 'm wondering conservative brothe...</td>\n",
       "      <td>not_cyberbullying</td>\n",
       "    </tr>\n",
       "    <tr>\n",
       "      <th>2</th>\n",
       "      <td>daveatherton bnsphrx hermannkelly robertsemons...</td>\n",
       "      <td>religion</td>\n",
       "    </tr>\n",
       "    <tr>\n",
       "      <th>3</th>\n",
       "      <td>rt trobinsonnewera nothing islam httptcoacqkux...</td>\n",
       "      <td>not_cyberbullying</td>\n",
       "    </tr>\n",
       "    <tr>\n",
       "      <th>4</th>\n",
       "      <td>stevesm mrsnickyclark billybragg thefamousartb...</td>\n",
       "      <td>gender</td>\n",
       "    </tr>\n",
       "  </tbody>\n",
       "</table>\n",
       "</div>"
      ],
      "text/plain": [
       "                                                text cyberbullying_type\n",
       "0  long rantexplanation comment copeacefuls make ...           religion\n",
       "1  toddmetcalf i 'm wondering conservative brothe...  not_cyberbullying\n",
       "2  daveatherton bnsphrx hermannkelly robertsemons...           religion\n",
       "3  rt trobinsonnewera nothing islam httptcoacqkux...  not_cyberbullying\n",
       "4  stevesm mrsnickyclark billybragg thefamousartb...             gender"
      ]
     },
     "execution_count": 10,
     "metadata": {},
     "output_type": "execute_result"
    }
   ],
   "source": [
    "file = 'cleaned_data.csv'\n",
    "data = read_data(file)\n",
    "data.head()"
   ]
  },
  {
   "cell_type": "code",
   "execution_count": 12,
   "id": "2e518249-16ca-41c8-92a4-b758d41f7c1c",
   "metadata": {},
   "outputs": [],
   "source": [
    "data['cyberbullying_type'] = data['cyberbullying_type'].values.astype('U')"
   ]
  },
  {
   "cell_type": "code",
   "execution_count": 13,
   "id": "b8db919a-3f2e-44e2-a7f8-39cdf2a45ec0",
   "metadata": {},
   "outputs": [
    {
     "data": {
      "text/html": [
       "<div>\n",
       "<style scoped>\n",
       "    .dataframe tbody tr th:only-of-type {\n",
       "        vertical-align: middle;\n",
       "    }\n",
       "\n",
       "    .dataframe tbody tr th {\n",
       "        vertical-align: top;\n",
       "    }\n",
       "\n",
       "    .dataframe thead th {\n",
       "        text-align: right;\n",
       "    }\n",
       "</style>\n",
       "<table border=\"1\" class=\"dataframe\">\n",
       "  <thead>\n",
       "    <tr style=\"text-align: right;\">\n",
       "      <th></th>\n",
       "      <th>text</th>\n",
       "      <th>cyberbullying_type</th>\n",
       "    </tr>\n",
       "  </thead>\n",
       "  <tbody>\n",
       "    <tr>\n",
       "      <th>0</th>\n",
       "      <td>long rantexplanation comment copeacefuls make ...</td>\n",
       "      <td>3</td>\n",
       "    </tr>\n",
       "    <tr>\n",
       "      <th>1</th>\n",
       "      <td>toddmetcalf i 'm wondering conservative brothe...</td>\n",
       "      <td>0</td>\n",
       "    </tr>\n",
       "    <tr>\n",
       "      <th>2</th>\n",
       "      <td>daveatherton bnsphrx hermannkelly robertsemons...</td>\n",
       "      <td>3</td>\n",
       "    </tr>\n",
       "    <tr>\n",
       "      <th>3</th>\n",
       "      <td>rt trobinsonnewera nothing islam httptcoacqkux...</td>\n",
       "      <td>0</td>\n",
       "    </tr>\n",
       "    <tr>\n",
       "      <th>4</th>\n",
       "      <td>stevesm mrsnickyclark billybragg thefamousartb...</td>\n",
       "      <td>1</td>\n",
       "    </tr>\n",
       "  </tbody>\n",
       "</table>\n",
       "</div>"
      ],
      "text/plain": [
       "                                                text  cyberbullying_type\n",
       "0  long rantexplanation comment copeacefuls make ...                   3\n",
       "1  toddmetcalf i 'm wondering conservative brothe...                   0\n",
       "2  daveatherton bnsphrx hermannkelly robertsemons...                   3\n",
       "3  rt trobinsonnewera nothing islam httptcoacqkux...                   0\n",
       "4  stevesm mrsnickyclark billybragg thefamousartb...                   1"
      ]
     },
     "execution_count": 13,
     "metadata": {},
     "output_type": "execute_result"
    }
   ],
   "source": [
    "data['cyberbullying_type'] = data['cyberbullying_type'].apply(labelencode)\n",
    "data.head()"
   ]
  },
  {
   "cell_type": "code",
   "execution_count": 14,
   "id": "077f37b0-6815-4d3e-bf17-33eaa5605e69",
   "metadata": {},
   "outputs": [
    {
     "data": {
      "text/plain": [
       "(131867, 2)"
      ]
     },
     "execution_count": 14,
     "metadata": {},
     "output_type": "execute_result"
    }
   ],
   "source": [
    "data.shape"
   ]
  },
  {
   "cell_type": "code",
   "execution_count": 15,
   "id": "9e072333-69b5-4fc2-a9f4-630493567cbf",
   "metadata": {
    "tags": []
   },
   "outputs": [],
   "source": [
    "train, test, validation = validation_train_test(data)"
   ]
  },
  {
   "cell_type": "code",
   "execution_count": 16,
   "id": "b7e18ede-c83c-4a47-8bec-84e1b097dbba",
   "metadata": {},
   "outputs": [
    {
     "name": "stdout",
     "output_type": "stream",
     "text": [
      "(13187, 2)\n",
      "(29670, 2)\n",
      "(89010, 2)\n"
     ]
    }
   ],
   "source": [
    "print(validation.shape)\n",
    "print(test.shape)\n",
    "print(train.shape)"
   ]
  },
  {
   "cell_type": "code",
   "execution_count": 17,
   "id": "71d6012d-035c-4229-bf9f-7844d65867a7",
   "metadata": {},
   "outputs": [
    {
     "name": "stdout",
     "output_type": "stream",
     "text": [
      "Current Working Directory  C:\\Users\\ompra\\OneDrive\\Documents\\Machine Learning Projects\\Automated Decision Support System for Cyberbullying Detection - Version 2.0\\Data\\raw_data\n",
      "Changed Working Directory  C:\\Users\\ompra\\OneDrive\\Documents\\Machine Learning Projects\\Automated Decision Support System for Cyberbullying Detection - Version 2.0\\Data\\processed_data\n"
     ]
    }
   ],
   "source": [
    "path = \"C:\\\\Users\\\\ompra\\\\OneDrive\\\\Documents\\\\Machine Learning Projects\\\\Automated Decision Support System for Cyberbullying Detection - Version 2.0\\\\Data\\\\processed_data\"\n",
    "change_directory(path)"
   ]
  },
  {
   "cell_type": "code",
   "execution_count": 18,
   "id": "f1d8780d-f6e6-4a6b-b33d-81d98879338e",
   "metadata": {},
   "outputs": [],
   "source": [
    "train.to_csv('train.csv', index = False)\n",
    "test.to_csv('test.csv', index = False)\n",
    "validation.to_csv('validation.csv', index = False)"
   ]
  },
  {
   "cell_type": "code",
   "execution_count": 19,
   "id": "6b64a40f-adf5-4b81-867f-925e0bfaa601",
   "metadata": {},
   "outputs": [
    {
     "data": {
      "text/plain": [
       "(89010, 2)"
      ]
     },
     "execution_count": 19,
     "metadata": {},
     "output_type": "execute_result"
    }
   ],
   "source": [
    "train.shape"
   ]
  },
  {
   "cell_type": "code",
   "execution_count": null,
   "id": "17f20ba1-26e1-4194-a02f-776c1718a92c",
   "metadata": {},
   "outputs": [],
   "source": [
    "x_train = train['text']\n",
    "x_test = test['text']"
   ]
  },
  {
   "cell_type": "code",
   "execution_count": 40,
   "id": "3c8560c2-be54-4b2d-a46a-7ea021ded4f0",
   "metadata": {},
   "outputs": [],
   "source": [
    "tfidf_train, tfidf_test = tfidf_vector(x_train,x_test)"
   ]
  },
  {
   "cell_type": "code",
   "execution_count": null,
   "id": "6e79d99d-fd67-4144-b3bc-58f04239a093",
   "metadata": {},
   "outputs": [],
   "source": []
  }
 ],
 "metadata": {
  "kernelspec": {
   "display_name": "Python 3 (ipykernel)",
   "language": "python",
   "name": "python3"
  },
  "language_info": {
   "codemirror_mode": {
    "name": "ipython",
    "version": 3
   },
   "file_extension": ".py",
   "mimetype": "text/x-python",
   "name": "python",
   "nbconvert_exporter": "python",
   "pygments_lexer": "ipython3",
   "version": "3.9.13"
  }
 },
 "nbformat": 4,
 "nbformat_minor": 5
}
